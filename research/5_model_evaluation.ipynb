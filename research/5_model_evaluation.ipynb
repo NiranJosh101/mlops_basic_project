{
 "cells": [
  {
   "cell_type": "code",
   "execution_count": 2,
   "id": "1dd8c302",
   "metadata": {},
   "outputs": [],
   "source": [
    "import os\n",
    "os.environ[\"MLFLOW_TRACKING_URI\"]=\"https://dagshub.com/NiranJosh101/mlops_basic_project.mlflow\"\n",
    "os.environ[\"MLFLOW_TRACKING_USERNAME\"]=\"NiranJosh101\"\n",
    "os.environ[\"MLFLOW_TRACKING_PASSWORD\"]=\"2b6e0a1d2f111da7d122794576fe6e2cd171cd65\""
   ]
  },
  {
   "cell_type": "code",
   "execution_count": 3,
   "id": "36899090",
   "metadata": {},
   "outputs": [
    {
     "name": "stdout",
     "output_type": "stream",
     "text": [
      "Running from: c:\\Users\\USER\\Desktop\\001_MLops_project\\001_Datascience_project\n"
     ]
    }
   ],
   "source": [
    "import os\n",
    "import sys\n",
    "from pathlib import Path\n",
    "\n",
    "# Move up to project root (adjust depending on your folder structure)\n",
    "PROJECT_ROOT = Path(os.getcwd()).parents[0]  # research → project root\n",
    "os.chdir(PROJECT_ROOT)\n",
    "sys.path.append(str(PROJECT_ROOT))\n",
    "\n",
    "print(\"Running from:\", os.getcwd())"
   ]
  },
  {
   "cell_type": "code",
   "execution_count": 4,
   "id": "4b6100dc",
   "metadata": {},
   "outputs": [],
   "source": [
    "from dataclasses import dataclass\n",
    "from pathlib import Path\n",
    "\n",
    "\n",
    "@dataclass\n",
    "class ModelEvaluationConfig:\n",
    "    root_dir: Path\n",
    "    test_data_path: Path\n",
    "    model_path: Path\n",
    "    all_params: dict\n",
    "    metric_file_name: Path\n",
    "    target_column: str\n",
    "    mlflow_uri: str\n",
    "    mlflow_uri_local: str"
   ]
  },
  {
   "cell_type": "code",
   "execution_count": 5,
   "id": "04f9c9f1",
   "metadata": {},
   "outputs": [],
   "source": [
    "from src.datascience.constants import *\n",
    "from src.datascience.utils.common import read_yaml, create_directories,save_json #save json added to save metrics"
   ]
  },
  {
   "cell_type": "code",
   "execution_count": 6,
   "id": "2cb911b7",
   "metadata": {},
   "outputs": [],
   "source": [
    "class ConfigurationManager:\n",
    "    def __init__(self, config_filepath=CONFIG_FILE_PATH, params_filepath = PARAMS_FILE_PATH, schema_filepath = SCHEMA_FILE_PATH):\n",
    "        \n",
    "        # read the yaml file stated below\n",
    "        self.config=read_yaml(config_filepath)\n",
    "        self.params=read_yaml(params_filepath)\n",
    "        self.schema=read_yaml(schema_filepath)\n",
    "\n",
    "        # read then extract the dir name from the config file just read\n",
    "        # this allows us creat the artifacts/ folder (where outputs will be stored)\n",
    "        create_directories([self.config.artifacts_root])\n",
    "\n",
    "    \n",
    "    def get_model_evaluation_config(self) -> ModelEvaluationConfig:\n",
    "        config=self.config.model_evaluation\n",
    "        params=self.params.ElasticNet\n",
    "        schema=self.schema.TARGET_COLUMN\n",
    "\n",
    "\n",
    "        create_directories([config.root_dir])\n",
    "\n",
    "        model_evaluation_config = ModelEvaluationConfig(\n",
    "            root_dir=config.root_dir,\n",
    "            test_data_path=config.test_data_path,\n",
    "            model_path=config.model_path,\n",
    "            all_params=params,\n",
    "            metric_file_name=config.metric_file_name,\n",
    "            target_column=schema.name,\n",
    "            mlflow_uri=\"https://dagshub.com/NiranJosh101/mlops_basic_project.mlflow\",\n",
    "            mlflow_uri_local=\"http://127.0.0.1:5000\"\n",
    "        )\n",
    "\n",
    "        return model_evaluation_config"
   ]
  },
  {
   "cell_type": "code",
   "execution_count": 7,
   "id": "fe381957",
   "metadata": {},
   "outputs": [],
   "source": [
    "import os\n",
    "import pandas as pd\n",
    "from sklearn.metrics import mean_squared_error, mean_absolute_error, r2_score\n",
    "from urllib.parse import urlparse\n",
    "import mlflow\n",
    "import mlflow.sklearn\n",
    "import numpy as np\n",
    "import joblib\n",
    "from mlflow.models.signature import infer_signature"
   ]
  },
  {
   "cell_type": "code",
   "execution_count": 11,
   "id": "820beddf",
   "metadata": {},
   "outputs": [],
   "source": [
    "class ModelEvaluation:\n",
    "    def __init__(self, config: ModelEvaluationConfig):\n",
    "        self.config=config\n",
    "\n",
    "    \n",
    "    def eval_metrics(self, actual, pred):\n",
    "        rmse = np.sqrt(mean_squared_error(actual, pred))\n",
    "        mse = mean_absolute_error(actual, pred)\n",
    "        r2 = r2_score(actual, pred)\n",
    "        return rmse, mse, r2\n",
    "\n",
    "    \n",
    "\n",
    "    def log_into_mlflow(self):\n",
    "        test_data = pd.read_csv(self.config.test_data_path)\n",
    "        model = joblib.load(self.config.model_path)\n",
    "\n",
    "        test_x = test_data.drop(self.config.target_column, axis=1)\n",
    "        test_y = test_data[self.config.target_column]\n",
    "\n",
    "        # mlflow.set_registry_uri(\"http://localhost:5000\")\n",
    "\n",
    "        # with mlflow.start_run() as run:\n",
    "        #     predicted_qualities = model.predict(test_x)\n",
    "        #     rmse, mae, r2 = self.eval_metrics(test_y, predicted_qualities)\n",
    "\n",
    "        #     print(f\"rmse: {rmse}\\nmae: {mae}\\nr2: {r2}\")\n",
    "        #     scores = {\"rmse\": rmse, \"mae\": mae, \"r2\": r2}\n",
    "        #     save_json(path=Path(self.config.metric_file_name), data=scores)\n",
    "\n",
    "        #     mlflow.log_params(self.config.all_params)\n",
    "        #     mlflow.log_metric(\"rmse\", rmse)\n",
    "        #     mlflow.log_metric(\"mae\", mae)\n",
    "        #     mlflow.log_metric(\"r2\", r2)\n",
    "\n",
    "        #     # ✅ Save model without registering (works with DagsHub)\n",
    "        #     artifact_path = \"model\"\n",
    "        #     mlflow.sklearn.log_model(\n",
    "        #         sk_model=model,\n",
    "        #         artifact_path=artifact_path,\n",
    "        #         input_example=test_x.iloc[:1],\n",
    "        #         signature=infer_signature(test_x, predicted_qualities),\n",
    "        #     )\n",
    "\n",
    "        #     # ✅ Manually register model to local registry\n",
    "        #     run_id = run.info.run_id\n",
    "        #     model_uri = f\"runs:/{run_id}/{artifact_path}\"\n",
    "        #     mlflow.register_model(\n",
    "        #         model_uri=model_uri,\n",
    "        #         name=\"ElasticnetModel\"\n",
    "        #     )\n",
    "\n",
    "        mlflow.set_tracking_uri(self.config.mlflow_uri)\n",
    "        mlflow.set_experiment(\"ElasticNet_Model_Tracking\")\n",
    "\n",
    "        with mlflow.start_run():\n",
    "            predicted_qualities = model.predict(test_x)\n",
    "            rmse, mae, r2 = self.eval_metrics(test_y, predicted_qualities)\n",
    "\n",
    "            scores = {\"rmse\": rmse, \"mae\": mae, \"r2\": r2}\n",
    "            save_json(path=Path(self.config.metric_file_name), data=scores)\n",
    "\n",
    "            mlflow.log_params(self.config.all_params)\n",
    "            mlflow.log_metric(\"rmse\", rmse)\n",
    "            mlflow.log_metric(\"mae\", mae)\n",
    "            mlflow.log_metric(\"r2\", r2)\n",
    "\n",
    "            # Save locally\n",
    "            model_path = os.path.join(self.config.root_dir, \"model.joblib\")\n",
    "            joblib.dump(model, model_path)\n",
    "\n",
    "            # Log model manually as artifact\n",
    "            mlflow.log_artifact(local_path=model_path, artifact_path=\"model\")\n",
    "\n",
    "\n",
    "\n",
    "\n",
    "\n",
    "    "
   ]
  },
  {
   "cell_type": "code",
   "execution_count": 12,
   "id": "6bf0446d",
   "metadata": {},
   "outputs": [
    {
     "name": "stdout",
     "output_type": "stream",
     "text": [
      "[2025-07-11 17:10:23,303: INFO: yaml file: config\\config.yaml loaded successfully]\n",
      "[2025-07-11 17:10:23,310: INFO: yaml file: params.yaml loaded successfully]\n",
      "[2025-07-11 17:10:23,324: INFO: yaml file: schema.yaml loaded successfully]\n",
      "[2025-07-11 17:10:23,329: INFO: create directory at: artifacts]\n",
      "[2025-07-11 17:10:23,332: INFO: create directory at: artifacts/model_evaluation]\n",
      "[2025-07-11 17:10:24,074: INFO: json file saved at: artifacts\\model_evaluation\\metric.json]\n",
      "🏃 View run unleashed-grouse-805 at: https://dagshub.com/NiranJosh101/mlops_basic_project.mlflow/#/experiments/1/runs/b9f198b5b88049fb97d78db1dd0ab1b4\n",
      "🧪 View experiment at: https://dagshub.com/NiranJosh101/mlops_basic_project.mlflow/#/experiments/1\n"
     ]
    }
   ],
   "source": [
    "try:\n",
    "    config = ConfigurationManager()\n",
    "    model_evaluation_config = config.get_model_evaluation_config()\n",
    "    model_evaluation = ModelEvaluation(model_evaluation_config)\n",
    "    model_evaluation.log_into_mlflow()\n",
    "except Exception as e:\n",
    "    raise e"
   ]
  },
  {
   "cell_type": "code",
   "execution_count": null,
   "id": "b240b4c7",
   "metadata": {},
   "outputs": [],
   "source": []
  }
 ],
 "metadata": {
  "kernelspec": {
   "display_name": "Python 3",
   "language": "python",
   "name": "python3"
  },
  "language_info": {
   "codemirror_mode": {
    "name": "ipython",
    "version": 3
   },
   "file_extension": ".py",
   "mimetype": "text/x-python",
   "name": "python",
   "nbconvert_exporter": "python",
   "pygments_lexer": "ipython3",
   "version": "3.10.0"
  }
 },
 "nbformat": 4,
 "nbformat_minor": 5
}
